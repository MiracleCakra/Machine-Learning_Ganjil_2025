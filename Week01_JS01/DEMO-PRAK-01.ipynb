{
 "cells": [
  {
   "cell_type": "code",
   "execution_count": 1,
   "id": "620966f8",
   "metadata": {},
   "outputs": [
    {
     "name": "stdout",
     "output_type": "stream",
     "text": [
      "Collecting mne\n",
      "  Downloading mne-1.10.1-py3-none-any.whl.metadata (20 kB)\n",
      "Requirement already satisfied: decorator in c:\\users\\cakra\\appdata\\roaming\\python\\python313\\site-packages (from mne) (5.2.1)\n",
      "Collecting jinja2 (from mne)\n",
      "  Downloading jinja2-3.1.6-py3-none-any.whl.metadata (2.9 kB)\n",
      "Collecting lazy-loader>=0.3 (from mne)\n",
      "  Downloading lazy_loader-0.4-py3-none-any.whl.metadata (7.6 kB)\n",
      "Requirement already satisfied: matplotlib>=3.7 in c:\\users\\cakra\\appdata\\local\\programs\\python\\python313\\lib\\site-packages (from mne) (3.10.1)\n",
      "Requirement already satisfied: numpy<3,>=1.25 in c:\\users\\cakra\\appdata\\local\\programs\\python\\python313\\lib\\site-packages (from mne) (2.2.3)\n",
      "Requirement already satisfied: packaging in c:\\users\\cakra\\appdata\\local\\programs\\python\\python313\\lib\\site-packages (from mne) (24.2)\n",
      "Collecting pooch>=1.5 (from mne)\n",
      "  Downloading pooch-1.8.2-py3-none-any.whl.metadata (10 kB)\n",
      "Requirement already satisfied: scipy>=1.11 in c:\\users\\cakra\\appdata\\local\\programs\\python\\python313\\lib\\site-packages (from mne) (1.15.2)\n",
      "Collecting tqdm (from mne)\n",
      "  Downloading tqdm-4.67.1-py3-none-any.whl.metadata (57 kB)\n",
      "Requirement already satisfied: contourpy>=1.0.1 in c:\\users\\cakra\\appdata\\local\\programs\\python\\python313\\lib\\site-packages (from matplotlib>=3.7->mne) (1.3.1)\n",
      "Requirement already satisfied: cycler>=0.10 in c:\\users\\cakra\\appdata\\local\\programs\\python\\python313\\lib\\site-packages (from matplotlib>=3.7->mne) (0.12.1)\n",
      "Requirement already satisfied: fonttools>=4.22.0 in c:\\users\\cakra\\appdata\\local\\programs\\python\\python313\\lib\\site-packages (from matplotlib>=3.7->mne) (4.56.0)\n",
      "Requirement already satisfied: kiwisolver>=1.3.1 in c:\\users\\cakra\\appdata\\local\\programs\\python\\python313\\lib\\site-packages (from matplotlib>=3.7->mne) (1.4.8)\n",
      "Requirement already satisfied: pillow>=8 in c:\\users\\cakra\\appdata\\local\\programs\\python\\python313\\lib\\site-packages (from matplotlib>=3.7->mne) (11.1.0)\n",
      "Requirement already satisfied: pyparsing>=2.3.1 in c:\\users\\cakra\\appdata\\local\\programs\\python\\python313\\lib\\site-packages (from matplotlib>=3.7->mne) (3.2.1)\n",
      "Requirement already satisfied: python-dateutil>=2.7 in c:\\users\\cakra\\appdata\\local\\programs\\python\\python313\\lib\\site-packages (from matplotlib>=3.7->mne) (2.9.0.post0)\n",
      "Requirement already satisfied: platformdirs>=2.5.0 in c:\\users\\cakra\\appdata\\roaming\\python\\python313\\site-packages (from pooch>=1.5->mne) (4.4.0)\n",
      "Collecting requests>=2.19.0 (from pooch>=1.5->mne)\n",
      "  Downloading requests-2.32.5-py3-none-any.whl.metadata (4.9 kB)\n",
      "Collecting MarkupSafe>=2.0 (from jinja2->mne)\n",
      "  Downloading MarkupSafe-3.0.2-cp313-cp313-win_amd64.whl.metadata (4.1 kB)\n",
      "Requirement already satisfied: colorama in c:\\users\\cakra\\appdata\\roaming\\python\\python313\\site-packages (from tqdm->mne) (0.4.6)\n",
      "Requirement already satisfied: six>=1.5 in c:\\users\\cakra\\appdata\\local\\programs\\python\\python313\\lib\\site-packages (from python-dateutil>=2.7->matplotlib>=3.7->mne) (1.17.0)\n",
      "Collecting charset_normalizer<4,>=2 (from requests>=2.19.0->pooch>=1.5->mne)\n",
      "  Downloading charset_normalizer-3.4.3-cp313-cp313-win_amd64.whl.metadata (37 kB)\n",
      "Collecting idna<4,>=2.5 (from requests>=2.19.0->pooch>=1.5->mne)\n",
      "  Downloading idna-3.10-py3-none-any.whl.metadata (10 kB)\n",
      "Collecting urllib3<3,>=1.21.1 (from requests>=2.19.0->pooch>=1.5->mne)\n",
      "  Downloading urllib3-2.5.0-py3-none-any.whl.metadata (6.5 kB)\n",
      "Collecting certifi>=2017.4.17 (from requests>=2.19.0->pooch>=1.5->mne)\n",
      "  Downloading certifi-2025.8.3-py3-none-any.whl.metadata (2.4 kB)\n",
      "Downloading mne-1.10.1-py3-none-any.whl (7.4 MB)\n",
      "   ---------------------------------------- 0.0/7.4 MB ? eta -:--:--\n",
      "   ---------------------------------------- 0.0/7.4 MB ? eta -:--:--\n",
      "   ---------------------------------------- 0.0/7.4 MB ? eta -:--:--\n",
      "   -- ------------------------------------- 0.5/7.4 MB 1.4 MB/s eta 0:00:05\n",
      "   ----- ---------------------------------- 1.0/7.4 MB 2.0 MB/s eta 0:00:04\n",
      "   --------- ------------------------------ 1.8/7.4 MB 2.9 MB/s eta 0:00:02\n",
      "   -------------- ------------------------- 2.6/7.4 MB 2.8 MB/s eta 0:00:02\n",
      "   -------------- ------------------------- 2.6/7.4 MB 2.8 MB/s eta 0:00:02\n",
      "   ---------------- ----------------------- 3.1/7.4 MB 2.5 MB/s eta 0:00:02\n",
      "   ------------------- -------------------- 3.7/7.4 MB 2.4 MB/s eta 0:00:02\n",
      "   ---------------------- ----------------- 4.2/7.4 MB 2.4 MB/s eta 0:00:02\n",
      "   ------------------------- -------------- 4.7/7.4 MB 2.4 MB/s eta 0:00:02\n",
      "   ---------------------------- ----------- 5.2/7.4 MB 2.4 MB/s eta 0:00:01\n",
      "   -------------------------------- ------- 6.0/7.4 MB 2.4 MB/s eta 0:00:01\n",
      "   ----------------------------------- ---- 6.6/7.4 MB 2.4 MB/s eta 0:00:01\n",
      "   -------------------------------------- - 7.1/7.4 MB 2.5 MB/s eta 0:00:01\n",
      "   ---------------------------------------- 7.4/7.4 MB 2.4 MB/s eta 0:00:00\n",
      "Downloading lazy_loader-0.4-py3-none-any.whl (12 kB)\n",
      "Downloading pooch-1.8.2-py3-none-any.whl (64 kB)\n",
      "Downloading jinja2-3.1.6-py3-none-any.whl (134 kB)\n",
      "Downloading tqdm-4.67.1-py3-none-any.whl (78 kB)\n",
      "Downloading MarkupSafe-3.0.2-cp313-cp313-win_amd64.whl (15 kB)\n",
      "Downloading requests-2.32.5-py3-none-any.whl (64 kB)\n",
      "Downloading certifi-2025.8.3-py3-none-any.whl (161 kB)\n",
      "Downloading charset_normalizer-3.4.3-cp313-cp313-win_amd64.whl (107 kB)\n",
      "Downloading idna-3.10-py3-none-any.whl (70 kB)\n",
      "Downloading urllib3-2.5.0-py3-none-any.whl (129 kB)\n",
      "Installing collected packages: urllib3, tqdm, MarkupSafe, lazy-loader, idna, charset_normalizer, certifi, requests, jinja2, pooch, mne\n",
      "Successfully installed MarkupSafe-3.0.2 certifi-2025.8.3 charset_normalizer-3.4.3 idna-3.10 jinja2-3.1.6 lazy-loader-0.4 mne-1.10.1 pooch-1.8.2 requests-2.32.5 tqdm-4.67.1 urllib3-2.5.0\n",
      "Note: you may need to restart the kernel to use updated packages.\n"
     ]
    },
    {
     "name": "stderr",
     "output_type": "stream",
     "text": [
      "\n",
      "[notice] A new release of pip is available: 25.0.1 -> 25.2\n",
      "[notice] To update, run: python.exe -m pip install --upgrade pip\n"
     ]
    }
   ],
   "source": [
    "%pip install mne"
   ]
  },
  {
   "cell_type": "code",
   "execution_count": null,
   "id": "4c72de28",
   "metadata": {},
   "outputs": [],
   "source": []
  }
 ],
 "metadata": {
  "kernelspec": {
   "display_name": "Python 3",
   "language": "python",
   "name": "python3"
  },
  "language_info": {
   "codemirror_mode": {
    "name": "ipython",
    "version": 3
   },
   "file_extension": ".py",
   "mimetype": "text/x-python",
   "name": "python",
   "nbconvert_exporter": "python",
   "pygments_lexer": "ipython3",
   "version": "3.13.2"
  }
 },
 "nbformat": 4,
 "nbformat_minor": 5
}
