{
 "cells": [
  {
   "cell_type": "code",
   "execution_count": 1,
   "id": "0afefd61",
   "metadata": {},
   "outputs": [
    {
     "name": "stdout",
     "output_type": "stream",
     "text": [
      "Collecting scikit-learn\n",
      "  Downloading scikit_learn-1.7.1-cp313-cp313-win_amd64.whl.metadata (11 kB)\n"
     ]
    },
    {
     "name": "stderr",
     "output_type": "stream",
     "text": [
      "ERROR: Could not find a version that satisfies the requirement 1.2.2 (from versions: none)\n",
      "\n",
      "[notice] A new release of pip is available: 25.0.1 -> 25.2\n",
      "[notice] To update, run: python.exe -m pip install --upgrade pip\n",
      "ERROR: No matching distribution found for 1.2.2\n"
     ]
    },
    {
     "name": "stdout",
     "output_type": "stream",
     "text": [
      "Requirement already satisfied: pandas in c:\\users\\cakra\\appdata\\local\\programs\\python\\python313\\lib\\site-packages (2.2.3)\n",
      "Requirement already satisfied: numpy>=1.26.0 in c:\\users\\cakra\\appdata\\local\\programs\\python\\python313\\lib\\site-packages (from pandas) (2.2.3)\n",
      "Requirement already satisfied: python-dateutil>=2.8.2 in c:\\users\\cakra\\appdata\\local\\programs\\python\\python313\\lib\\site-packages (from pandas) (2.9.0.post0)\n",
      "Requirement already satisfied: pytz>=2020.1 in c:\\users\\cakra\\appdata\\local\\programs\\python\\python313\\lib\\site-packages (from pandas) (2025.1)\n",
      "Requirement already satisfied: tzdata>=2022.7 in c:\\users\\cakra\\appdata\\local\\programs\\python\\python313\\lib\\site-packages (from pandas) (2025.1)\n",
      "Requirement already satisfied: six>=1.5 in c:\\users\\cakra\\appdata\\local\\programs\\python\\python313\\lib\\site-packages (from python-dateutil>=2.8.2->pandas) (1.17.0)\n"
     ]
    },
    {
     "name": "stderr",
     "output_type": "stream",
     "text": [
      "\n",
      "[notice] A new release of pip is available: 25.0.1 -> 25.2\n",
      "[notice] To update, run: python.exe -m pip install --upgrade pip\n"
     ]
    },
    {
     "name": "stdout",
     "output_type": "stream",
     "text": [
      "Collecting pyecg\n",
      "  Using cached pyECG-0.0.9.1-py2.py3-none-any.whl.metadata (3.1 kB)\n",
      "Using cached pyECG-0.0.9.1-py2.py3-none-any.whl (14 kB)\n",
      "Installing collected packages: pyecg\n",
      "Successfully installed pyecg-0.0.9.1\n"
     ]
    },
    {
     "name": "stderr",
     "output_type": "stream",
     "text": [
      "\n",
      "[notice] A new release of pip is available: 25.0.1 -> 25.2\n",
      "[notice] To update, run: python.exe -m pip install --upgrade pip\n"
     ]
    },
    {
     "name": "stdout",
     "output_type": "stream",
     "text": [
      "Collecting pyprep\n",
      "  Using cached pyprep-0.5.0-py3-none-any.whl.metadata (7.3 kB)\n",
      "Requirement already satisfied: scipy in c:\\users\\cakra\\appdata\\local\\programs\\python\\python313\\lib\\site-packages (1.15.2)\n",
      "Collecting wandb\n",
      "  Using cached wandb-0.21.3-py3-none-win_amd64.whl.metadata (10 kB)\n",
      "Requirement already satisfied: mne>=1.3.0 in c:\\users\\cakra\\appdata\\local\\programs\\python\\python313\\lib\\site-packages (from pyprep) (1.10.1)\n",
      "Requirement already satisfied: numpy>=1.20.2 in c:\\users\\cakra\\appdata\\local\\programs\\python\\python313\\lib\\site-packages (from pyprep) (2.2.3)\n",
      "Requirement already satisfied: psutil>=5.4.3 in c:\\users\\cakra\\appdata\\roaming\\python\\python313\\site-packages (from pyprep) (7.0.0)\n",
      "Collecting click>=8.0.1 (from wandb)\n",
      "  Using cached click-8.2.1-py3-none-any.whl.metadata (2.5 kB)\n",
      "Collecting gitpython!=3.1.29,>=1.0.0 (from wandb)\n",
      "  Using cached gitpython-3.1.45-py3-none-any.whl.metadata (13 kB)\n",
      "Requirement already satisfied: packaging in c:\\users\\cakra\\appdata\\local\\programs\\python\\python313\\lib\\site-packages (from wandb) (24.2)\n",
      "Requirement already satisfied: platformdirs in c:\\users\\cakra\\appdata\\roaming\\python\\python313\\site-packages (from wandb) (4.4.0)\n",
      "Collecting protobuf!=4.21.0,!=5.28.0,<7,>=3.19.0 (from wandb)\n",
      "  Using cached protobuf-6.32.0-cp310-abi3-win_amd64.whl.metadata (593 bytes)\n",
      "Collecting pydantic<3 (from wandb)\n",
      "  Using cached pydantic-2.11.7-py3-none-any.whl.metadata (67 kB)\n",
      "Collecting pyyaml (from wandb)\n",
      "  Downloading PyYAML-6.0.2-cp313-cp313-win_amd64.whl.metadata (2.1 kB)\n",
      "Requirement already satisfied: requests<3,>=2.0.0 in c:\\users\\cakra\\appdata\\local\\programs\\python\\python313\\lib\\site-packages (from wandb) (2.32.5)\n",
      "Collecting sentry-sdk>=2.0.0 (from wandb)\n",
      "  Using cached sentry_sdk-2.35.2-py2.py3-none-any.whl.metadata (10 kB)\n",
      "Collecting typing-extensions<5,>=4.8 (from wandb)\n",
      "  Using cached typing_extensions-4.15.0-py3-none-any.whl.metadata (3.3 kB)\n",
      "Requirement already satisfied: colorama in c:\\users\\cakra\\appdata\\roaming\\python\\python313\\site-packages (from click>=8.0.1->wandb) (0.4.6)\n",
      "Collecting gitdb<5,>=4.0.1 (from gitpython!=3.1.29,>=1.0.0->wandb)\n",
      "  Using cached gitdb-4.0.12-py3-none-any.whl.metadata (1.2 kB)\n",
      "Requirement already satisfied: decorator in c:\\users\\cakra\\appdata\\roaming\\python\\python313\\site-packages (from mne>=1.3.0->pyprep) (5.2.1)\n",
      "Requirement already satisfied: jinja2 in c:\\users\\cakra\\appdata\\local\\programs\\python\\python313\\lib\\site-packages (from mne>=1.3.0->pyprep) (3.1.6)\n",
      "Requirement already satisfied: lazy-loader>=0.3 in c:\\users\\cakra\\appdata\\local\\programs\\python\\python313\\lib\\site-packages (from mne>=1.3.0->pyprep) (0.4)\n",
      "Requirement already satisfied: matplotlib>=3.7 in c:\\users\\cakra\\appdata\\local\\programs\\python\\python313\\lib\\site-packages (from mne>=1.3.0->pyprep) (3.10.1)\n",
      "Requirement already satisfied: pooch>=1.5 in c:\\users\\cakra\\appdata\\local\\programs\\python\\python313\\lib\\site-packages (from mne>=1.3.0->pyprep) (1.8.2)\n",
      "Requirement already satisfied: tqdm in c:\\users\\cakra\\appdata\\local\\programs\\python\\python313\\lib\\site-packages (from mne>=1.3.0->pyprep) (4.67.1)\n",
      "Collecting annotated-types>=0.6.0 (from pydantic<3->wandb)\n",
      "  Using cached annotated_types-0.7.0-py3-none-any.whl.metadata (15 kB)\n",
      "Collecting pydantic-core==2.33.2 (from pydantic<3->wandb)\n",
      "  Downloading pydantic_core-2.33.2-cp313-cp313-win_amd64.whl.metadata (6.9 kB)\n",
      "Collecting typing-inspection>=0.4.0 (from pydantic<3->wandb)\n",
      "  Using cached typing_inspection-0.4.1-py3-none-any.whl.metadata (2.6 kB)\n",
      "Requirement already satisfied: charset_normalizer<4,>=2 in c:\\users\\cakra\\appdata\\local\\programs\\python\\python313\\lib\\site-packages (from requests<3,>=2.0.0->wandb) (3.4.3)\n",
      "Requirement already satisfied: idna<4,>=2.5 in c:\\users\\cakra\\appdata\\local\\programs\\python\\python313\\lib\\site-packages (from requests<3,>=2.0.0->wandb) (3.10)\n",
      "Requirement already satisfied: urllib3<3,>=1.21.1 in c:\\users\\cakra\\appdata\\local\\programs\\python\\python313\\lib\\site-packages (from requests<3,>=2.0.0->wandb) (2.5.0)\n",
      "Requirement already satisfied: certifi>=2017.4.17 in c:\\users\\cakra\\appdata\\local\\programs\\python\\python313\\lib\\site-packages (from requests<3,>=2.0.0->wandb) (2025.8.3)\n",
      "Collecting smmap<6,>=3.0.1 (from gitdb<5,>=4.0.1->gitpython!=3.1.29,>=1.0.0->wandb)\n",
      "  Using cached smmap-5.0.2-py3-none-any.whl.metadata (4.3 kB)\n",
      "Requirement already satisfied: contourpy>=1.0.1 in c:\\users\\cakra\\appdata\\local\\programs\\python\\python313\\lib\\site-packages (from matplotlib>=3.7->mne>=1.3.0->pyprep) (1.3.1)\n",
      "Requirement already satisfied: cycler>=0.10 in c:\\users\\cakra\\appdata\\local\\programs\\python\\python313\\lib\\site-packages (from matplotlib>=3.7->mne>=1.3.0->pyprep) (0.12.1)\n",
      "Requirement already satisfied: fonttools>=4.22.0 in c:\\users\\cakra\\appdata\\local\\programs\\python\\python313\\lib\\site-packages (from matplotlib>=3.7->mne>=1.3.0->pyprep) (4.56.0)\n",
      "Requirement already satisfied: kiwisolver>=1.3.1 in c:\\users\\cakra\\appdata\\local\\programs\\python\\python313\\lib\\site-packages (from matplotlib>=3.7->mne>=1.3.0->pyprep) (1.4.8)\n",
      "Requirement already satisfied: pillow>=8 in c:\\users\\cakra\\appdata\\local\\programs\\python\\python313\\lib\\site-packages (from matplotlib>=3.7->mne>=1.3.0->pyprep) (11.1.0)\n",
      "Requirement already satisfied: pyparsing>=2.3.1 in c:\\users\\cakra\\appdata\\local\\programs\\python\\python313\\lib\\site-packages (from matplotlib>=3.7->mne>=1.3.0->pyprep) (3.2.1)\n",
      "Requirement already satisfied: python-dateutil>=2.7 in c:\\users\\cakra\\appdata\\local\\programs\\python\\python313\\lib\\site-packages (from matplotlib>=3.7->mne>=1.3.0->pyprep) (2.9.0.post0)\n",
      "Requirement already satisfied: MarkupSafe>=2.0 in c:\\users\\cakra\\appdata\\local\\programs\\python\\python313\\lib\\site-packages (from jinja2->mne>=1.3.0->pyprep) (3.0.2)\n",
      "Requirement already satisfied: six>=1.5 in c:\\users\\cakra\\appdata\\local\\programs\\python\\python313\\lib\\site-packages (from python-dateutil>=2.7->matplotlib>=3.7->mne>=1.3.0->pyprep) (1.17.0)\n",
      "Using cached pyprep-0.5.0-py3-none-any.whl (34 kB)\n",
      "Using cached wandb-0.21.3-py3-none-win_amd64.whl (18.7 MB)\n",
      "Using cached click-8.2.1-py3-none-any.whl (102 kB)\n",
      "Using cached gitpython-3.1.45-py3-none-any.whl (208 kB)\n",
      "Using cached protobuf-6.32.0-cp310-abi3-win_amd64.whl (435 kB)\n",
      "Using cached pydantic-2.11.7-py3-none-any.whl (444 kB)\n",
      "Downloading pydantic_core-2.33.2-cp313-cp313-win_amd64.whl (2.0 MB)\n",
      "   ---------------------------------------- 0.0/2.0 MB ? eta -:--:--\n",
      "   ---------------------------------------- 0.0/2.0 MB ? eta -:--:--\n",
      "   ---------------------------------------- 0.0/2.0 MB ? eta -:--:--\n",
      "   ---------------------------------------- 0.0/2.0 MB ? eta -:--:--\n",
      "   ----- ---------------------------------- 0.3/2.0 MB ? eta -:--:--\n",
      "   ---------- ----------------------------- 0.5/2.0 MB 1.2 MB/s eta 0:00:02\n",
      "   --------------------- ------------------ 1.0/2.0 MB 1.8 MB/s eta 0:00:01\n",
      "   ---------------------------------------- 2.0/2.0 MB 2.5 MB/s eta 0:00:00\n",
      "Using cached sentry_sdk-2.35.2-py2.py3-none-any.whl (363 kB)\n",
      "Using cached typing_extensions-4.15.0-py3-none-any.whl (44 kB)\n",
      "Downloading PyYAML-6.0.2-cp313-cp313-win_amd64.whl (156 kB)\n",
      "Using cached annotated_types-0.7.0-py3-none-any.whl (13 kB)\n",
      "Using cached gitdb-4.0.12-py3-none-any.whl (62 kB)\n",
      "Using cached typing_inspection-0.4.1-py3-none-any.whl (14 kB)\n",
      "Using cached smmap-5.0.2-py3-none-any.whl (24 kB)\n",
      "Installing collected packages: typing-extensions, smmap, sentry-sdk, pyyaml, protobuf, click, annotated-types, typing-inspection, pydantic-core, gitdb, pydantic, gitpython, wandb, pyprep\n",
      "Successfully installed annotated-types-0.7.0 click-8.2.1 gitdb-4.0.12 gitpython-3.1.45 protobuf-6.32.0 pydantic-2.11.7 pydantic-core-2.33.2 pyprep-0.5.0 pyyaml-6.0.2 sentry-sdk-2.35.2 smmap-5.0.2 typing-extensions-4.15.0 typing-inspection-0.4.1 wandb-0.21.3\n"
     ]
    },
    {
     "name": "stderr",
     "output_type": "stream",
     "text": [
      "\n",
      "[notice] A new release of pip is available: 25.0.1 -> 25.2\n",
      "[notice] To update, run: python.exe -m pip install --upgrade pip\n"
     ]
    },
    {
     "name": "stdout",
     "output_type": "stream",
     "text": [
      "Collecting ishneholterlib\n",
      "  Using cached ishneholterlib-2020.5.29-py3-none-any.whl.metadata (356 bytes)\n",
      "Collecting crccheck (from ishneholterlib)\n",
      "  Using cached crccheck-1.3.1-py3-none-any.whl.metadata (5.5 kB)\n",
      "Requirement already satisfied: numpy in c:\\users\\cakra\\appdata\\local\\programs\\python\\python313\\lib\\site-packages (from ishneholterlib) (2.2.3)\n",
      "Using cached ishneholterlib-2020.5.29-py3-none-any.whl (8.4 kB)\n",
      "Using cached crccheck-1.3.1-py3-none-any.whl (24 kB)\n",
      "Installing collected packages: crccheck, ishneholterlib\n",
      "Successfully installed crccheck-1.3.1 ishneholterlib-2020.5.29\n"
     ]
    },
    {
     "name": "stderr",
     "output_type": "stream",
     "text": [
      "ERROR: pip's dependency resolver does not currently take into account all the packages that are installed. This behaviour is the source of the following dependency conflicts.\n",
      "pyecg 0.0.9.1 requires pytest, which is not installed.\n",
      "pyecg 0.0.9.1 requires pytest-cov, which is not installed.\n",
      "pyecg 0.0.9.1 requires wfdb==2.2.1, which is not installed.\n",
      "pyecg 0.0.9.1 requires ishneholterlib==2017.4.11, but you have ishneholterlib 2020.5.29 which is incompatible.\n",
      "\n",
      "[notice] A new release of pip is available: 25.0.1 -> 25.2\n",
      "[notice] To update, run: python.exe -m pip install --upgrade pip\n"
     ]
    }
   ],
   "source": [
    "!pip install scikit-learn==1.2.2\n",
    "!pip install pandas\n",
    "!pip install pyecg --no-deps\n",
    "!pip install pyprep scipy wandb\n",
    "!pip install ishneholterlib"
   ]
  },
  {
   "cell_type": "code",
   "execution_count": 1,
   "id": "caf29943",
   "metadata": {},
   "outputs": [
    {
     "name": "stderr",
     "output_type": "stream",
     "text": [
      "c:\\Users\\cakra\\AppData\\Local\\Programs\\Python\\Python313\\Lib\\site-packages\\pyecg\\__init__.py:2: UserWarning: pkg_resources is deprecated as an API. See https://setuptools.pypa.io/en/latest/pkg_resources.html. The pkg_resources package is slated for removal as early as 2025-11-30. Refrain from using this package or pin to Setuptools<81.\n",
      "  from pkg_resources import get_distribution, DistributionNotFound\n"
     ]
    },
    {
     "name": "stdout",
     "output_type": "stream",
     "text": [
      "PyPREP: 0.5.0\n",
      "SciPy: 1.15.2\n",
      "wandb: 0.21.3\n",
      "pyECG: 0.0.9.1\n"
     ]
    }
   ],
   "source": [
    "import pyprep\n",
    "import scipy\n",
    "import wandb\n",
    "import pyecg\n",
    "\n",
    "print(\"PyPREP:\", pyprep.__version__)\n",
    "print(\"SciPy:\", scipy.__version__)\n",
    "print(\"wandb:\", wandb.__version__)\n",
    "print(\"pyECG:\", pyecg.__version__)"
   ]
  },
  {
   "cell_type": "markdown",
   "id": "4c352b2f",
   "metadata": {},
   "source": [
    "### PyPREP\n",
    "Library untuk preprocessing sinyal EEG. Digunakan untuk membersihkan sinyal EEG dari noise, artefak, dan baseline wander menggunakan pipeline PREP, sehingga menghasilkan data yang lebih akurat untuk analisis neuroscience atau machine learning.\n",
    "\n",
    "### SciPy\n",
    "Library Python untuk komputasi ilmiah. Menyediakan fungsi untuk perhitungan matematis, statistik, pemrosesan sinyal (misalnya FFT, filtering), optimisasi, dan integrasi. Cocok untuk analisis data teknis dan ilmiah.\n",
    "\n",
    "### wandb (Weights & Biases)\n",
    "Platform untuk pelacakan eksperimen machine learning. Memungkinkan pengguna mencatat metrik (loss, akurasi), hyperparameter, dan visualisasi performa model secara real-time di dashboard online.\n",
    "\n",
    "### pyECG\n",
    "Library untuk analisis sinyal ECG. Mendukung pembacaan data ECG, preprocessing, ekstraksi fitur (seperti deteksi QRS), dan analisis sinyal jantung untuk aplikasi kesehatan atau penelitian biometrik."
   ]
  },
  {
   "cell_type": "markdown",
   "id": "e82e8fd1",
   "metadata": {},
   "source": [
    "# Bagian 2: Etika, Hukum, dan Dampak Lingkungan AI\n",
    "\n",
    "\n",
    "## 1. Berikan contoh tentang tidakan melanggar etika dan hukum tentang penggunaan kecerdasan buatan. Sertakan referensi yang digunakan.\n",
    "\n",
    "Jawab: seorang pengacara di Victoria, Australia, menjadi yang pertama dalam mendapatkan sanksi profesional karena menggunakan AI untuk menghasilkan kutipan hukum palsu dan tidak dapat melakukan verifikasi pada sidang. sehingga sertifikat praktik diubah dan tidak bisa membuka praktik atau kelola dana klien serta harus bekerja dibawah pengawasan selama 2 tahun. Sehingga regulasi menggunakan verifikasi manual dan menolak larangan secara total penggunaan AI.\n",
    "\n",
    "sumber referensi:\n",
    "https://www.theguardian.com/law/2025/sep/03/lawyer-caught-using-ai-generated-false-citations-in-court-case-penalised-in-australian-first\n",
    "\n",
    "## 2. Berikan contoh tentang dampak energi dan lingkungan terhadap pemanfaatan kecerdasan buatan dan bagaimana cara mengatasinya (Anda dapat memberikan pendapat pribadi). Sertakan referensi yang digunakan.\n",
    "\n",
    "Jawab:\n",
    "\n",
    "a. Konsumsi Daya yang sangat tinggi\n",
    "   Data center yang digunakan untuk menjalankan AI akan membutuhkan daya dengan skala besar. Bahkan, badan International Energy Agency (IEA) memperkirakan konsumsi listrik global dari pusat data AI akan lebih dari dua kali lipat hingga 2030, dan bisa melampaui sektor berat seperti baja dan semen\n",
    "   \n",
    "   Sumber referensi:\n",
    "   https://www.theguardian.com/technology/2025/apr/10/energy-demands-from-ai-datacentres-to-quadruple-by-2030-says-report\n",
    "\n",
    "b. Pertumbuhan AI yang semakin pesat akan membebani jaringan listrik\n",
    "   dan sistem pendinginan. Bahkan wilayah seperti Northern Virginia (AS) dan Irlandia sudah mengalami keterbatasan pasokan energi sehingga memperlambat ekspansi yang ada pada data center\n",
    "\n",
    "   Sumber referensi: https://www.techradar.com/pro/ais-infrastructure-problem-is-bigger-than-we-think-heres-how-to-solve-it?\n",
    "\n",
    "c. Operasional dan produksi yang terus bertumbuh akan menghasilkan emisi karbon dan emisi udara. Dengan contoh penggunaan model AI seperti Llama 3.1 dapat menghasilkan polusi yang sama dengan 10.000 perjalanan mobil di Los Angeles–New York. Yang mengakibatkan biaya kesehatan pada publik di AS akan berpotensi mencapai US$20 miliar per tahun pada 2030.\n",
    "\n",
    "Sumber referensi: https://arxiv.org/abs/2412.06288\n",
    "\n",
    "Dengan cara mengatasi:\n",
    "\n",
    "a. Setiap perusahaan AI harus memberikan pelaporan mengenai emisi karbon, konsumsi air dan penggunaan air dari pembangunan AI, dengan menggunakan standar ISO\n",
    "\n",
    "Sumber referensi: https://www.weforum.org/stories/2025/06/how-ai-use-impacts-the-environment/\n",
    "\n",
    "https://www.theguardian.com/technology/2025/apr/10/energy-demands-from-ai-datacentres-to-quadruple-by-2030-says-report\n",
    "\n",
    "b. Menggunakan energi yang terbarukan dengan membuat pengalihan data center ke sumber energi yang bersih dengan mengalihkan ke panel surya, nuklir, bahkan diarahkan ke startup energi yang terbarukan.\n",
    "\n",
    "Sumber referensi: https://time.com/7294803/ai-revolution-energy-revolution/\n",
    "\n"
   ]
  }
 ],
 "metadata": {
  "kernelspec": {
   "display_name": "Python 3",
   "language": "python",
   "name": "python3"
  },
  "language_info": {
   "codemirror_mode": {
    "name": "ipython",
    "version": 3
   },
   "file_extension": ".py",
   "mimetype": "text/x-python",
   "name": "python",
   "nbconvert_exporter": "python",
   "pygments_lexer": "ipython3",
   "version": "3.13.2"
  }
 },
 "nbformat": 4,
 "nbformat_minor": 5
}
