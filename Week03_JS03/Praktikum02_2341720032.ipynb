{
 "cells": [
  {
   "cell_type": "markdown",
   "id": "d28607ef",
   "metadata": {},
   "source": [
    "# Praktikum 2\n",
    "## Pra Pengolahan Data - Seleksi Fitur\n",
    "\n",
    "Pada tahap ini kita akan melakukan Pre- Processing sebelum melakukan seleksi Fitur. Pre processing akan melakukan encoding pada data-data kategorikal, yaitu \"Sex\" dan \"Cabin\", imputasi data pada \"Age\", standarisasi pada fitur \"Age\". Hal ini perlu dilakukan karena algoritma pembelajaran mesin melakukan proses kalkulasi secara matematis. Salah satu strategi yang bisa di gunakan adalah Label Encoding. Label Encoding serupa dengan Ordinal Encoding, bedanya hanya pada proses pengurutan. Label Encoding tidak mengurutkan data terlebih dahulu.\n",
    "\n",
    "Setelah pre Processing selesai, langkah selanjutnya memilih variabel mana saja yang akan kita gunakan sebagai fitur. Pada bagian dasar teori, kita sudah mempelajari bahwa tidak selalu semua variabel dapat digunakan sebagai fitur. Oleh karena itu, kita dapat memilih fitur yang sekiranya penting untuk tujuan yang ingin kita capai dalam membuat model pembelajaran mesin. Kita akan menggunakan kasus yang sama, yaitu kita kita mengetahui ciri-ciri penumpang kapal Titanic yang selamat. Sehingga, fitur yang kita gunakan adalah,\n",
    "\n",
    "1. \"Survived\"\n",
    "\n",
    "2. \"Pclass\"\n",
    "\n",
    "3. \"Sex\"\n",
    "\n",
    "4. \"Age\"\n",
    "\n",
    "5. \"Cabin\"\n",
    "\n",
    "Kita akan memisahkan variabel-variabel tersebut dari variabel yang lain.\n",
    "\n",
    "Data yang akan kita gunakan adalah data Titanic yang sudah diperbaiki dengan proses imputasi."
   ]
  },
  {
   "cell_type": "markdown",
   "id": "aec6befe",
   "metadata": {},
   "source": [
    "### Langkah 0 - Load Library"
   ]
  },
  {
   "cell_type": "code",
   "execution_count": 61,
   "id": "828a2c64",
   "metadata": {},
   "outputs": [],
   "source": [
    "import pandas as pd\n",
    "from sklearn.preprocessing import LabelEncoder, StandardScaler"
   ]
  },
  {
   "cell_type": "markdown",
   "id": "161cde0e",
   "metadata": {},
   "source": [
    "### Langkah 1 - Load Data"
   ]
  },
  {
   "cell_type": "code",
   "execution_count": 62,
   "id": "f687055f",
   "metadata": {},
   "outputs": [
    {
     "name": "stdout",
     "output_type": "stream",
     "text": [
      "=== Hasil Preprocessing Data (5 baris pertama) ===\n"
     ]
    },
    {
     "data": {
      "text/html": [
       "<div>\n",
       "<style scoped>\n",
       "    .dataframe tbody tr th:only-of-type {\n",
       "        vertical-align: middle;\n",
       "    }\n",
       "\n",
       "    .dataframe tbody tr th {\n",
       "        vertical-align: top;\n",
       "    }\n",
       "\n",
       "    .dataframe thead th {\n",
       "        text-align: right;\n",
       "    }\n",
       "</style>\n",
       "<table border=\"1\" class=\"dataframe\">\n",
       "  <thead>\n",
       "    <tr style=\"text-align: right;\">\n",
       "      <th></th>\n",
       "      <th>PassengerId</th>\n",
       "      <th>Survived</th>\n",
       "      <th>Pclass</th>\n",
       "      <th>Name</th>\n",
       "      <th>Sex</th>\n",
       "      <th>Age</th>\n",
       "      <th>SibSp</th>\n",
       "      <th>Parch</th>\n",
       "      <th>Ticket</th>\n",
       "      <th>Fare</th>\n",
       "      <th>Cabin</th>\n",
       "      <th>Embarked</th>\n",
       "    </tr>\n",
       "  </thead>\n",
       "  <tbody>\n",
       "    <tr>\n",
       "      <th>0</th>\n",
       "      <td>1</td>\n",
       "      <td>0</td>\n",
       "      <td>3</td>\n",
       "      <td>Braund, Mr. Owen Harris</td>\n",
       "      <td>male</td>\n",
       "      <td>22.0</td>\n",
       "      <td>1</td>\n",
       "      <td>0</td>\n",
       "      <td>A/5 21171</td>\n",
       "      <td>7.2500</td>\n",
       "      <td>DECK</td>\n",
       "      <td>S</td>\n",
       "    </tr>\n",
       "    <tr>\n",
       "      <th>1</th>\n",
       "      <td>2</td>\n",
       "      <td>1</td>\n",
       "      <td>1</td>\n",
       "      <td>Cumings, Mrs. John Bradley (Florence Briggs Th...</td>\n",
       "      <td>female</td>\n",
       "      <td>38.0</td>\n",
       "      <td>1</td>\n",
       "      <td>0</td>\n",
       "      <td>PC 17599</td>\n",
       "      <td>71.2833</td>\n",
       "      <td>C85</td>\n",
       "      <td>C</td>\n",
       "    </tr>\n",
       "    <tr>\n",
       "      <th>2</th>\n",
       "      <td>3</td>\n",
       "      <td>1</td>\n",
       "      <td>3</td>\n",
       "      <td>Heikkinen, Miss. Laina</td>\n",
       "      <td>female</td>\n",
       "      <td>26.0</td>\n",
       "      <td>0</td>\n",
       "      <td>0</td>\n",
       "      <td>STON/O2. 3101282</td>\n",
       "      <td>7.9250</td>\n",
       "      <td>DECK</td>\n",
       "      <td>S</td>\n",
       "    </tr>\n",
       "    <tr>\n",
       "      <th>3</th>\n",
       "      <td>4</td>\n",
       "      <td>1</td>\n",
       "      <td>1</td>\n",
       "      <td>Futrelle, Mrs. Jacques Heath (Lily May Peel)</td>\n",
       "      <td>female</td>\n",
       "      <td>35.0</td>\n",
       "      <td>1</td>\n",
       "      <td>0</td>\n",
       "      <td>113803</td>\n",
       "      <td>53.1000</td>\n",
       "      <td>C123</td>\n",
       "      <td>S</td>\n",
       "    </tr>\n",
       "    <tr>\n",
       "      <th>4</th>\n",
       "      <td>5</td>\n",
       "      <td>0</td>\n",
       "      <td>3</td>\n",
       "      <td>Allen, Mr. William Henry</td>\n",
       "      <td>male</td>\n",
       "      <td>35.0</td>\n",
       "      <td>0</td>\n",
       "      <td>0</td>\n",
       "      <td>373450</td>\n",
       "      <td>8.0500</td>\n",
       "      <td>DECK</td>\n",
       "      <td>S</td>\n",
       "    </tr>\n",
       "  </tbody>\n",
       "</table>\n",
       "</div>"
      ],
      "text/plain": [
       "   PassengerId  Survived  Pclass  \\\n",
       "0            1         0       3   \n",
       "1            2         1       1   \n",
       "2            3         1       3   \n",
       "3            4         1       1   \n",
       "4            5         0       3   \n",
       "\n",
       "                                                Name     Sex   Age  SibSp  \\\n",
       "0                            Braund, Mr. Owen Harris    male  22.0      1   \n",
       "1  Cumings, Mrs. John Bradley (Florence Briggs Th...  female  38.0      1   \n",
       "2                             Heikkinen, Miss. Laina  female  26.0      0   \n",
       "3       Futrelle, Mrs. Jacques Heath (Lily May Peel)  female  35.0      1   \n",
       "4                           Allen, Mr. William Henry    male  35.0      0   \n",
       "\n",
       "   Parch            Ticket     Fare Cabin Embarked  \n",
       "0      0         A/5 21171   7.2500  DECK        S  \n",
       "1      0          PC 17599  71.2833   C85        C  \n",
       "2      0  STON/O2. 3101282   7.9250  DECK        S  \n",
       "3      0            113803  53.1000  C123        S  \n",
       "4      0            373450   8.0500  DECK        S  "
      ]
     },
     "execution_count": 62,
     "metadata": {},
     "output_type": "execute_result"
    }
   ],
   "source": [
    "dpath = 'assets/Titanic-Dataset-fixed.csv'\n",
    "df = pd.read_csv(dpath)\n",
    "print(\"=== Hasil Preprocessing Data (5 baris pertama) ===\")\n",
    "df.head()\n",
    "\n"
   ]
  },
  {
   "cell_type": "markdown",
   "id": "98a55870",
   "metadata": {},
   "source": [
    "### Langkah 2 - Pre Processing Encoding Sex\n",
    "\n",
    "Pada tahap ini akan melakukan encoding pada data-data kategorikal, yaitu \"Sex\""
   ]
  },
  {
   "cell_type": "markdown",
   "id": "9219a9b6",
   "metadata": {},
   "source": [
    "### Langkah 3 - Verifikasi hasil encoding \"sex\""
   ]
  },
  {
   "cell_type": "code",
   "execution_count": 63,
   "id": "a01cf80d",
   "metadata": {},
   "outputs": [
    {
     "name": "stdout",
     "output_type": "stream",
     "text": [
      "=== Hasil Setelah Encoding 'Sex' ===\n",
      "   Sex\n",
      "0    1\n",
      "1    0\n",
      "2    0\n",
      "3    0\n",
      "4    1 \n",
      "\n"
     ]
    }
   ],
   "source": [
    "# --- 2. Encoding fitur 'Sex' ---\n",
    "df['Sex'] = df['Sex'].map({'male': 1, 'female': 0})\n",
    "print(\"=== Hasil Setelah Encoding 'Sex' ===\")\n",
    "print(df[['Sex']].head(), \"\\n\")"
   ]
  },
  {
   "cell_type": "markdown",
   "id": "3476fa8e",
   "metadata": {},
   "source": [
    "### Langkah 4- Pre Processing Encoding \"Cabin\".\n",
    "\n",
    "Pada tahap ini akan melakukan encoding pada data-data kategorikal, yaitu \"Cabin\""
   ]
  },
  {
   "cell_type": "code",
   "execution_count": 64,
   "id": "5bf9b78c",
   "metadata": {},
   "outputs": [
    {
     "name": "stdout",
     "output_type": "stream",
     "text": [
      "=== Hasil Setelah Fill NaN pada 'Cabin' ===\n",
      "     Cabin\n",
      "0  Unknown\n",
      "1      C85\n",
      "2  Unknown\n",
      "3     C123\n",
      "4  Unknown \n",
      "\n",
      "=== Hasil Ambil huruf pertama 'Cabin' (Deck) ===\n",
      "  Cabin\n",
      "0     U\n",
      "1     C\n",
      "2     U\n",
      "3     C\n",
      "4     U \n",
      "\n"
     ]
    }
   ],
   "source": [
    "# --- 3. Encoding fitur 'Cabin' ---\n",
    "# Ganti nilai 'DECK' menjadi NaN supaya bisa diproses\n",
    "df['Cabin'] = df['Cabin'].replace('DECK', np.nan)\n",
    "\n",
    "# Fill NaN\n",
    "df['Cabin'] = df['Cabin'].fillna('Unknown')\n",
    "print(\"=== Hasil Setelah Fill NaN pada 'Cabin' ===\")\n",
    "print(df[['Cabin']].head(5), \"\\n\")\n",
    "\n",
    "# Ambil huruf pertama\n",
    "df['Cabin'] = df['Cabin'].apply(lambda x: x[0] if x != 'Unknown' else 'U')\n",
    "print(\"=== Hasil Ambil huruf pertama 'Cabin' (Deck) ===\")\n",
    "print(df[['Cabin']].head(5), \"\\n\")\n"
   ]
  },
  {
   "cell_type": "markdown",
   "id": "4d323b4f",
   "metadata": {},
   "source": [
    "### Langkah 5 - Pre Processing Imputasi Data\n",
    "\n",
    "Pada tahapan ini kita akan melakukan imputasi data pada \"Age\". Tujuan dari langkah ini adalah untuk demonstrasi proses imputasi data dengan nilai median."
   ]
  },
  {
   "cell_type": "markdown",
   "id": "7422cb24",
   "metadata": {},
   "source": [
    "### Langkah 6 - Verifikasi Hasil Imputasi Data "
   ]
  },
  {
   "cell_type": "code",
   "execution_count": 65,
   "id": "ab0b8af1",
   "metadata": {},
   "outputs": [
    {
     "name": "stdout",
     "output_type": "stream",
     "text": [
      "=== Hasil Setelah Imputasi Data pada Usia dengan median ===\n",
      "         Age\n",
      "0  22.000000\n",
      "1  38.000000\n",
      "2  26.000000\n",
      "3  35.000000\n",
      "4  35.000000\n",
      "5  29.699118\n",
      "6  54.000000\n",
      "7   2.000000\n",
      "8  27.000000\n",
      "9  14.000000 \n",
      "\n"
     ]
    }
   ],
   "source": [
    "# --- 4. Standarisasi fitur 'Age' ---\n",
    "df['Age'] = df[['Age']].fillna(df['Age'].median())\n",
    "print(\"=== Hasil Setelah Imputasi Data pada Usia dengan median ===\")\n",
    "print(df[['Age']].head(10), \"\\n\")"
   ]
  },
  {
   "cell_type": "markdown",
   "id": "afa1704f",
   "metadata": {},
   "source": [
    "### Langkah 7 - Pre Processing Standarisasi\n",
    "\n",
    "Pada tahapan ini kita akan melakukan standarisasi pada \"Age\". Hal ini sebetulnya tidak terlalu diperlukan karena nilai pada \"Age\" tidak terlalu jauh. Tujuan dari langkah ini adalah untuk demonstrasi proses standarisasi."
   ]
  },
  {
   "cell_type": "code",
   "execution_count": 66,
   "id": "149ab4b3",
   "metadata": {},
   "outputs": [
    {
     "name": "stdout",
     "output_type": "stream",
     "text": [
      "=== Hasil Setelah Standardisasi 'Age' ===\n",
      "        Age\n",
      "0 -0.592481\n",
      "1  0.638789\n",
      "2 -0.284663\n",
      "3  0.407926\n",
      "4  0.407926\n",
      "5  0.000000\n",
      "6  1.870059\n",
      "7 -2.131568\n",
      "8 -0.207709\n",
      "9 -1.208115 \n",
      "\n"
     ]
    }
   ],
   "source": [
    "scaler = StandardScaler()\n",
    "df['Age'] = scaler.fit_transform(df[['Age']])\n",
    "print(\"=== Hasil Setelah Standardisasi 'Age' ===\")\n",
    "print(df[['Age']].head(10), \"\\n\")"
   ]
  },
  {
   "cell_type": "markdown",
   "id": "2426c2bc",
   "metadata": {},
   "source": [
    "### Langkah 8 - Hasil setelah Pre Processing\n",
    "\n",
    "Pada tahapan ini, akan melakukan pengecekan hasil Pre Processing yang sudah dilakukan yaitu Encoding pada fitur \"Sex\" dan \"Cabin\", imputasi data pada \"Age\", standarisasi pada fitur \"Age\"."
   ]
  },
  {
   "cell_type": "code",
   "execution_count": 67,
   "id": "a403438a",
   "metadata": {},
   "outputs": [
    {
     "name": "stdout",
     "output_type": "stream",
     "text": [
      "=== Hasil Preprocessing (5 baris pertama) ===\n"
     ]
    },
    {
     "data": {
      "text/html": [
       "<div>\n",
       "<style scoped>\n",
       "    .dataframe tbody tr th:only-of-type {\n",
       "        vertical-align: middle;\n",
       "    }\n",
       "\n",
       "    .dataframe tbody tr th {\n",
       "        vertical-align: top;\n",
       "    }\n",
       "\n",
       "    .dataframe thead th {\n",
       "        text-align: right;\n",
       "    }\n",
       "</style>\n",
       "<table border=\"1\" class=\"dataframe\">\n",
       "  <thead>\n",
       "    <tr style=\"text-align: right;\">\n",
       "      <th></th>\n",
       "      <th>PassengerId</th>\n",
       "      <th>Survived</th>\n",
       "      <th>Pclass</th>\n",
       "      <th>Name</th>\n",
       "      <th>Sex</th>\n",
       "      <th>Age</th>\n",
       "      <th>SibSp</th>\n",
       "      <th>Parch</th>\n",
       "      <th>Ticket</th>\n",
       "      <th>Fare</th>\n",
       "      <th>Cabin</th>\n",
       "      <th>Embarked</th>\n",
       "    </tr>\n",
       "  </thead>\n",
       "  <tbody>\n",
       "    <tr>\n",
       "      <th>0</th>\n",
       "      <td>1</td>\n",
       "      <td>0</td>\n",
       "      <td>3</td>\n",
       "      <td>Braund, Mr. Owen Harris</td>\n",
       "      <td>1</td>\n",
       "      <td>-0.592481</td>\n",
       "      <td>1</td>\n",
       "      <td>0</td>\n",
       "      <td>A/5 21171</td>\n",
       "      <td>7.2500</td>\n",
       "      <td>U</td>\n",
       "      <td>S</td>\n",
       "    </tr>\n",
       "    <tr>\n",
       "      <th>1</th>\n",
       "      <td>2</td>\n",
       "      <td>1</td>\n",
       "      <td>1</td>\n",
       "      <td>Cumings, Mrs. John Bradley (Florence Briggs Th...</td>\n",
       "      <td>0</td>\n",
       "      <td>0.638789</td>\n",
       "      <td>1</td>\n",
       "      <td>0</td>\n",
       "      <td>PC 17599</td>\n",
       "      <td>71.2833</td>\n",
       "      <td>C</td>\n",
       "      <td>C</td>\n",
       "    </tr>\n",
       "    <tr>\n",
       "      <th>2</th>\n",
       "      <td>3</td>\n",
       "      <td>1</td>\n",
       "      <td>3</td>\n",
       "      <td>Heikkinen, Miss. Laina</td>\n",
       "      <td>0</td>\n",
       "      <td>-0.284663</td>\n",
       "      <td>0</td>\n",
       "      <td>0</td>\n",
       "      <td>STON/O2. 3101282</td>\n",
       "      <td>7.9250</td>\n",
       "      <td>U</td>\n",
       "      <td>S</td>\n",
       "    </tr>\n",
       "    <tr>\n",
       "      <th>3</th>\n",
       "      <td>4</td>\n",
       "      <td>1</td>\n",
       "      <td>1</td>\n",
       "      <td>Futrelle, Mrs. Jacques Heath (Lily May Peel)</td>\n",
       "      <td>0</td>\n",
       "      <td>0.407926</td>\n",
       "      <td>1</td>\n",
       "      <td>0</td>\n",
       "      <td>113803</td>\n",
       "      <td>53.1000</td>\n",
       "      <td>C</td>\n",
       "      <td>S</td>\n",
       "    </tr>\n",
       "    <tr>\n",
       "      <th>4</th>\n",
       "      <td>5</td>\n",
       "      <td>0</td>\n",
       "      <td>3</td>\n",
       "      <td>Allen, Mr. William Henry</td>\n",
       "      <td>1</td>\n",
       "      <td>0.407926</td>\n",
       "      <td>0</td>\n",
       "      <td>0</td>\n",
       "      <td>373450</td>\n",
       "      <td>8.0500</td>\n",
       "      <td>U</td>\n",
       "      <td>S</td>\n",
       "    </tr>\n",
       "  </tbody>\n",
       "</table>\n",
       "</div>"
      ],
      "text/plain": [
       "   PassengerId  Survived  Pclass  \\\n",
       "0            1         0       3   \n",
       "1            2         1       1   \n",
       "2            3         1       3   \n",
       "3            4         1       1   \n",
       "4            5         0       3   \n",
       "\n",
       "                                                Name  Sex       Age  SibSp  \\\n",
       "0                            Braund, Mr. Owen Harris    1 -0.592481      1   \n",
       "1  Cumings, Mrs. John Bradley (Florence Briggs Th...    0  0.638789      1   \n",
       "2                             Heikkinen, Miss. Laina    0 -0.284663      0   \n",
       "3       Futrelle, Mrs. Jacques Heath (Lily May Peel)    0  0.407926      1   \n",
       "4                           Allen, Mr. William Henry    1  0.407926      0   \n",
       "\n",
       "   Parch            Ticket     Fare Cabin Embarked  \n",
       "0      0         A/5 21171   7.2500     U        S  \n",
       "1      0          PC 17599  71.2833     C        C  \n",
       "2      0  STON/O2. 3101282   7.9250     U        S  \n",
       "3      0            113803  53.1000     C        S  \n",
       "4      0            373450   8.0500     U        S  "
      ]
     },
     "execution_count": 67,
     "metadata": {},
     "output_type": "execute_result"
    }
   ],
   "source": [
    "# --- 5. Cek hasil akhir ---\n",
    "print(\"=== Hasil Preprocessing (5 baris pertama) ===\")\n",
    "#print(df[['Sex', 'Cabin', 'Age']].head(5))\n",
    "df.head()"
   ]
  },
  {
   "cell_type": "markdown",
   "id": "0c7fbeb0",
   "metadata": {},
   "source": [
    "### Langkah 9 - Seleksi Fitur\n",
    "\n",
    "pada tahap ini akan dipilih 5 variabel sebagai fitur penting yaitu fitur \"Survived\". \"Pclass\", \"Age\", \"Sex\", dan \"Cabin\"."
   ]
  },
  {
   "cell_type": "code",
   "execution_count": 68,
   "id": "2d426b9c",
   "metadata": {},
   "outputs": [
    {
     "data": {
      "text/html": [
       "<div>\n",
       "<style scoped>\n",
       "    .dataframe tbody tr th:only-of-type {\n",
       "        vertical-align: middle;\n",
       "    }\n",
       "\n",
       "    .dataframe tbody tr th {\n",
       "        vertical-align: top;\n",
       "    }\n",
       "\n",
       "    .dataframe thead th {\n",
       "        text-align: right;\n",
       "    }\n",
       "</style>\n",
       "<table border=\"1\" class=\"dataframe\">\n",
       "  <thead>\n",
       "    <tr style=\"text-align: right;\">\n",
       "      <th></th>\n",
       "      <th>Survived</th>\n",
       "      <th>Pclass</th>\n",
       "      <th>Age</th>\n",
       "      <th>Sex</th>\n",
       "      <th>Cabin</th>\n",
       "    </tr>\n",
       "  </thead>\n",
       "  <tbody>\n",
       "    <tr>\n",
       "      <th>0</th>\n",
       "      <td>0</td>\n",
       "      <td>3</td>\n",
       "      <td>-0.592481</td>\n",
       "      <td>1</td>\n",
       "      <td>U</td>\n",
       "    </tr>\n",
       "    <tr>\n",
       "      <th>1</th>\n",
       "      <td>1</td>\n",
       "      <td>1</td>\n",
       "      <td>0.638789</td>\n",
       "      <td>0</td>\n",
       "      <td>C</td>\n",
       "    </tr>\n",
       "    <tr>\n",
       "      <th>2</th>\n",
       "      <td>1</td>\n",
       "      <td>3</td>\n",
       "      <td>-0.284663</td>\n",
       "      <td>0</td>\n",
       "      <td>U</td>\n",
       "    </tr>\n",
       "    <tr>\n",
       "      <th>3</th>\n",
       "      <td>1</td>\n",
       "      <td>1</td>\n",
       "      <td>0.407926</td>\n",
       "      <td>0</td>\n",
       "      <td>C</td>\n",
       "    </tr>\n",
       "    <tr>\n",
       "      <th>4</th>\n",
       "      <td>0</td>\n",
       "      <td>3</td>\n",
       "      <td>0.407926</td>\n",
       "      <td>1</td>\n",
       "      <td>U</td>\n",
       "    </tr>\n",
       "  </tbody>\n",
       "</table>\n",
       "</div>"
      ],
      "text/plain": [
       "   Survived  Pclass       Age  Sex Cabin\n",
       "0         0       3 -0.592481    1     U\n",
       "1         1       1  0.638789    0     C\n",
       "2         1       3 -0.284663    0     U\n",
       "3         1       1  0.407926    0     C\n",
       "4         0       3  0.407926    1     U"
      ]
     },
     "execution_count": 68,
     "metadata": {},
     "output_type": "execute_result"
    }
   ],
   "source": [
    "df = df[['Survived', 'Pclass', 'Age', 'Sex', 'Cabin']]\n",
    "df.head()"
   ]
  }
 ],
 "metadata": {
  "kernelspec": {
   "display_name": "Python 3",
   "language": "python",
   "name": "python3"
  },
  "language_info": {
   "codemirror_mode": {
    "name": "ipython",
    "version": 3
   },
   "file_extension": ".py",
   "mimetype": "text/x-python",
   "name": "python",
   "nbconvert_exporter": "python",
   "pygments_lexer": "ipython3",
   "version": "3.13.2"
  }
 },
 "nbformat": 4,
 "nbformat_minor": 5
}
