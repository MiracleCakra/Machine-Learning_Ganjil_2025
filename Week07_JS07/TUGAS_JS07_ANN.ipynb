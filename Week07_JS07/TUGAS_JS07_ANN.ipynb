{
  "cells": [
    {
      "cell_type": "markdown",
      "metadata": {
        "id": "view-in-github",
        "colab_type": "text"
      },
      "source": [
        "<a href=\"https://colab.research.google.com/github/MiracleCakra/Machine-Learning_Ganjil_2025/blob/main/Week07_JS07/TUGAS_JS07_ANN.ipynb\" target=\"_parent\"><img src=\"https://colab.research.google.com/assets/colab-badge.svg\" alt=\"Open In Colab\"/></a>"
      ]
    },
    {
      "cell_type": "markdown",
      "id": "b7b8510a",
      "metadata": {
        "id": "b7b8510a"
      },
      "source": [
        "# Tugas\n",
        "\n",
        "Jalankan code berikut pada Google Colab dan PyDroid3 (Android Python) Application di Smartphone Android. Bandingkan hasilnya dan tuliskan analisa anda, tuliskan juga spesifikasi smartphone yang anda gunakan :)."
      ]
    },
    {
      "cell_type": "code",
      "source": [
        "!pip install -q annoy faiss-cpu hnswlib"
      ],
      "metadata": {
        "colab": {
          "base_uri": "https://localhost:8080/"
        },
        "id": "yl1tJMVzSrKK",
        "outputId": "d67d35a6-5ad7-4f46-c750-31fb42008132"
      },
      "id": "yl1tJMVzSrKK",
      "execution_count": 2,
      "outputs": [
        {
          "output_type": "stream",
          "name": "stdout",
          "text": [
            "\u001b[?25l     \u001b[90m━━━━━━━━━━━━━━━━━━━━━━━━━━━━━━━━━━━━━━━━\u001b[0m \u001b[32m0.0/647.5 kB\u001b[0m \u001b[31m?\u001b[0m eta \u001b[36m-:--:--\u001b[0m\r\u001b[2K     \u001b[91m━━━━━━━━━━━━━\u001b[0m\u001b[91m╸\u001b[0m\u001b[90m━━━━━━━━━━━━━━━━━━━━━━━━━\u001b[0m \u001b[32m225.3/647.5 kB\u001b[0m \u001b[31m6.7 MB/s\u001b[0m eta \u001b[36m0:00:01\u001b[0m\r\u001b[2K     \u001b[91m━━━━━━━━━━━━━━━━━━━━━━━━━━━━\u001b[0m\u001b[91m╸\u001b[0m\u001b[90m━━━━━━━━━━\u001b[0m \u001b[32m481.3/647.5 kB\u001b[0m \u001b[31m7.0 MB/s\u001b[0m eta \u001b[36m0:00:01\u001b[0m\r\u001b[2K     \u001b[90m━━━━━━━━━━━━━━━━━━━━━━━━━━━━━━━━━━━━━━━\u001b[0m \u001b[32m647.5/647.5 kB\u001b[0m \u001b[31m6.1 MB/s\u001b[0m eta \u001b[36m0:00:00\u001b[0m\n",
            "\u001b[?25h  Preparing metadata (setup.py) ... \u001b[?25l\u001b[?25hdone\n",
            "  Installing build dependencies ... \u001b[?25l\u001b[?25hdone\n",
            "  Getting requirements to build wheel ... \u001b[?25l\u001b[?25hdone\n",
            "  Preparing metadata (pyproject.toml) ... \u001b[?25l\u001b[?25hdone\n",
            "\u001b[2K   \u001b[90m━━━━━━━━━━━━━━━━━━━━━━━━━━━━━━━━━━━━━━━━\u001b[0m \u001b[32m31.4/31.4 MB\u001b[0m \u001b[31m21.2 MB/s\u001b[0m eta \u001b[36m0:00:00\u001b[0m\n",
            "\u001b[?25h  Building wheel for annoy (setup.py) ... \u001b[?25l\u001b[?25hdone\n",
            "  Building wheel for hnswlib (pyproject.toml) ... \u001b[?25l\u001b[?25hdone\n"
          ]
        }
      ]
    },
    {
      "cell_type": "code",
      "execution_count": 3,
      "id": "5e84a634",
      "metadata": {
        "colab": {
          "base_uri": "https://localhost:8080/"
        },
        "id": "5e84a634",
        "outputId": "afa90c03-900a-4bb9-8ba9-07dcdb641fb4"
      },
      "outputs": [
        {
          "output_type": "stream",
          "name": "stdout",
          "text": [
            "Exact NN done in 1.833 s\n",
            "Annoy done in 0.641 s\n",
            "HNSW done in 12.922 s\n",
            "FAISS IVF done in 1.102 s\n",
            "\n",
            "=== Ringkasan Waktu (detik) ===\n",
            "Exact NN : 1.833\n",
            "Annoy    : 0.641\n",
            "HNSW     : 12.922\n",
            "FAISS    : 1.102\n"
          ]
        }
      ],
      "source": [
        "import numpy as np\n",
        "import time\n",
        "from sklearn.neighbors import NearestNeighbors\n",
        "from annoy import AnnoyIndex\n",
        "import hnswlib\n",
        "import faiss\n",
        "from sklearn.preprocessing import StandardScaler\n",
        "\n",
        "# -------------------------------\n",
        "# Contoh dataset kecil untuk testing\n",
        "# -------------------------------\n",
        "np.random.seed(42)\n",
        "n_samples = 10000   # jumlah database vector\n",
        "d = 128             # dimensi\n",
        "X = np.random.random((n_samples, d)).astype('float32')\n",
        "\n",
        "# Standarisasi fitur\n",
        "scaler = StandardScaler()\n",
        "X_scaled = scaler.fit_transform(X)\n",
        "\n",
        "k = 10  # jumlah nearest neighbors\n",
        "\n",
        "# -------------------------------\n",
        "# Exact NN (brute-force)\n",
        "# -------------------------------\n",
        "start = time.time()\n",
        "nn = NearestNeighbors(n_neighbors=k, algorithm='brute', metric='euclidean')\n",
        "nn.fit(X_scaled)\n",
        "dist_exact, idx_exact = nn.kneighbors(X_scaled)\n",
        "time_exact = time.time() - start\n",
        "print(f\"Exact NN done in {time_exact:.3f} s\")\n",
        "\n",
        "# -------------------------------\n",
        "# Annoy\n",
        "# -------------------------------\n",
        "start = time.time()\n",
        "f = X_scaled.shape[1]\n",
        "index_annoy = AnnoyIndex(f, 'euclidean')\n",
        "for i, v in enumerate(X_scaled):\n",
        "    index_annoy.add_item(i, v)\n",
        "index_annoy.build(10)\n",
        "idx_annoy = [index_annoy.get_nns_by_vector(v, k) for v in X_scaled]\n",
        "time_annoy = time.time() - start\n",
        "print(f\"Annoy done in {time_annoy:.3f} s\")\n",
        "\n",
        "# -------------------------------\n",
        "# HNSW\n",
        "# -------------------------------\n",
        "start = time.time()\n",
        "p_hnsw = hnswlib.Index(space='l2', dim=d)\n",
        "p_hnsw.init_index(max_elements=n_samples, ef_construction=200, M=16)\n",
        "p_hnsw.add_items(X_scaled)\n",
        "p_hnsw.set_ef(200)\n",
        "idx_hnsw, _ = p_hnsw.knn_query(X_scaled, k=k)\n",
        "time_hnsw = time.time() - start\n",
        "print(f\"HNSW done in {time_hnsw:.3f} s\")\n",
        "\n",
        "# -------------------------------\n",
        "# FAISS IVF\n",
        "# -------------------------------\n",
        "start = time.time()\n",
        "quantizer = faiss.IndexFlatL2(d)\n",
        "index_faiss = faiss.IndexIVFFlat(quantizer, d, 100, faiss.METRIC_L2)\n",
        "index_faiss.train(X_scaled)\n",
        "index_faiss.add(X_scaled)\n",
        "index_faiss.nprobe = 10\n",
        "_, idx_faiss = index_faiss.search(X_scaled, k)\n",
        "time_faiss = time.time() - start\n",
        "print(f\"FAISS IVF done in {time_faiss:.3f} s\")\n",
        "\n",
        "# -------------------------------\n",
        "# Tampilkan ringkasan waktu\n",
        "# -------------------------------\n",
        "print(\"\\n=== Ringkasan Waktu (detik) ===\")\n",
        "print(f\"Exact NN : {time_exact:.3f}\")\n",
        "print(f\"Annoy    : {time_annoy:.3f}\")\n",
        "print(f\"HNSW     : {time_hnsw:.3f}\")\n",
        "print(f\"FAISS    : {time_faiss:.3f}\")\n"
      ]
    },
    {
      "cell_type": "markdown",
      "id": "0836ccdc",
      "metadata": {
        "id": "0836ccdc"
      },
      "source": [
        "### Output Pada local (Intel i5 12450HX - 12GB DDR4)\n",
        "```\n",
        "Exact NN done in 0.195 s\n",
        "Annoy done in 0.350 s\n",
        "HNSW done in 0.442 s\n",
        "FAISS IVF done in 0.045 s\n",
        "\n",
        "=== Ringkasan Waktu (detik) ===\n",
        "Exact NN : 0.175\n",
        "Annoy    : 0.389\n",
        "HNSW     : 0.442\n",
        "FAISS    : 0.045\n",
        "```"
      ]
    },
    {
      "cell_type": "markdown",
      "id": "96aba22b",
      "metadata": {
        "id": "96aba22b"
      },
      "source": [
        "### Output Pada Google Colab free (2xvCPU Intel(R) Xeon(R) CPU @ 2.30GHz, 12.7GB)\n",
        "```\n",
        "Exact NN done in 1.833 s\n",
        "Annoy done in 0.641 s\n",
        "HNSW done in 12.922 s\n",
        "FAISS IVF done in 1.102 s\n",
        "\n",
        "=== Ringkasan Waktu (detik) ===\n",
        "Exact NN : 1.833\n",
        "Annoy    : 0.641\n",
        "HNSW     : 12.922\n",
        "FAISS    : 1.102\n",
        "```"
      ]
    },
    {
      "cell_type": "markdown",
      "metadata": {
        "id": "2b84d3bb"
      },
      "source": [
        "## Analisis Perbandingan Kinerja\n",
        "\n",
        "Berdasarkan perbandingan hasil di laptop lokal (Intel i5 12450HX) dan Google Colab:\n",
        "\n",
        "*   **Performa Lokal Unggul untuk Komputasi Intensif:** Laptop lokal lebih cepat untuk algoritma seperti FAISS, HNSW, dan Exact NN. Ini karena CPU fisik lokal lebih baik dalam menangani komputasi numerik berat dibandingkan CPU virtual Colab yang bisa ter-*throttle*.\n",
        "*   **Colab Ideal untuk Eksperimen Ringan:** Google Colab cocok untuk eksperimen dan prototipe awal karena kemudahan aksesnya, meskipun performanya bervariasi.\n",
        "*   **Annoy Stabil Lintas Platform:** Annoy menunjukkan kinerja yang stabil di Colab, kurang bergantung pada optimasi hardware spesifik.\n",
        "*   **FAISS Sensitif terhadap Hardware:** Kinerja FAISS sangat dipengaruhi oleh kapabilitas hardware lokal (SIMD, multi-threading), membuatnya sangat cepat di sana.\n"
      ],
      "id": "2b84d3bb"
    }
  ],
  "metadata": {
    "kernelspec": {
      "display_name": ".venv",
      "language": "python",
      "name": "python3"
    },
    "language_info": {
      "codemirror_mode": {
        "name": "ipython",
        "version": 3
      },
      "file_extension": ".py",
      "mimetype": "text/x-python",
      "name": "python",
      "nbconvert_exporter": "python",
      "pygments_lexer": "ipython3",
      "version": "3.12.8"
    },
    "colab": {
      "provenance": [],
      "include_colab_link": true
    }
  },
  "nbformat": 4,
  "nbformat_minor": 5
}