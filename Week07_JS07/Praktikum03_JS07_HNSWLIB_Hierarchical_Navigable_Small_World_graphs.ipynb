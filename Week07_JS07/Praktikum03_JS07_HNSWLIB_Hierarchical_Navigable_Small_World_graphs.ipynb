{
  "cells": [
    {
      "cell_type": "markdown",
      "metadata": {
        "id": "view-in-github",
        "colab_type": "text"
      },
      "source": [
        "<a href=\"https://colab.research.google.com/github/MiracleCakra/Machine-Learning_Ganjil_2025/blob/main/Week07_JS07/Praktikum03_JS07_HNSWLIB_Hierarchical_Navigable_Small_World_graphs.ipynb\" target=\"_parent\"><img src=\"https://colab.research.google.com/assets/colab-badge.svg\" alt=\"Open In Colab\"/></a>"
      ]
    },
    {
      "cell_type": "markdown",
      "id": "c7d4897e",
      "metadata": {
        "id": "c7d4897e"
      },
      "source": [
        "# Praktikum 3\n",
        "\n",
        "HNSW"
      ]
    },
    {
      "cell_type": "code",
      "execution_count": 3,
      "id": "f4864aff",
      "metadata": {
        "id": "f4864aff"
      },
      "outputs": [],
      "source": [
        "!pip install hnswlib -q"
      ]
    },
    {
      "cell_type": "markdown",
      "source": [
        "Percobaan berikut akan membandingkan exact NN dengan HNSW pada 1000 data 2D."
      ],
      "metadata": {
        "id": "34tD4RgBkSi2"
      },
      "id": "34tD4RgBkSi2"
    },
    {
      "cell_type": "code",
      "execution_count": 4,
      "id": "24c4598c",
      "metadata": {
        "colab": {
          "base_uri": "https://localhost:8080/"
        },
        "id": "24c4598c",
        "outputId": "5e77b35c-152b-45cd-d93a-cc9c1503203c"
      },
      "outputs": [
        {
          "output_type": "stream",
          "name": "stdout",
          "text": [
            "=== Exact NN ===\n",
            "Indices: [[905 570 606  14  68]]\n",
            "Distances: [[0.02183795 0.03808458 0.04583036 0.05158029 0.05793338]]\n",
            "Waktu: 0.18595576286315918 detik\n",
            "\n",
            "=== HNSW ===\n",
            "Indices: [[905 570 606  14  68]]\n",
            "Distances: [[0.0004769  0.00145044 0.00210042 0.00266053 0.00335628]]\n",
            "Waktu: 0.00023865699768066406 detik\n"
          ]
        }
      ],
      "source": [
        "import hnswlib\n",
        "import numpy as np\n",
        "import time\n",
        "from sklearn.neighbors import NearestNeighbors\n",
        "\n",
        "# ===========================\n",
        "# 1. Buat data 2D acak\n",
        "# ===========================\n",
        "num_elements = 1000\n",
        "dim = 2\n",
        "data = np.random.random((num_elements, dim)).astype(np.float32)\n",
        "\n",
        "# Query point\n",
        "query = np.array([[0.5, 0.5]], dtype=np.float32)\n",
        "k = 5  # cari 5 tetangga terdekat\n",
        "\n",
        "# ===========================\n",
        "# 2. Exact NN (Brute Force)\n",
        "# ===========================\n",
        "nn = NearestNeighbors(n_neighbors=k, algorithm='brute', metric='euclidean')\n",
        "nn.fit(data)\n",
        "\n",
        "start = time.time()\n",
        "distances, indices = nn.kneighbors(query)\n",
        "end = time.time()\n",
        "\n",
        "print(\"=== Exact NN ===\")\n",
        "print(\"Indices:\", indices)\n",
        "print(\"Distances:\", distances)\n",
        "print(\"Waktu:\", end - start, \"detik\")\n",
        "\n",
        "# ===========================\n",
        "# 3. HNSW\n",
        "# ===========================\n",
        "# Inisialisasi index HNSW\n",
        "p = hnswlib.Index(space='l2', dim=dim)\n",
        "\n",
        "# Ukuran maksimum elemen yang bisa ditampung\n",
        "p.init_index(max_elements=num_elements, ef_construction=100, M=16)\n",
        "\n",
        "# Tambahkan data\n",
        "p.add_items(data)\n",
        "\n",
        "# Set parameter pencarian\n",
        "p.set_ef(50)   # tradeoff speed vs accuracy\n",
        "\n",
        "start = time.time()\n",
        "labels, distances = p.knn_query(query, k=k)\n",
        "end = time.time()\n",
        "\n",
        "print(\"\\n=== HNSW ===\")\n",
        "print(\"Indices:\", labels)\n",
        "print(\"Distances:\", distances)\n",
        "print(\"Waktu:\", end - start, \"detik\")\n"
      ]
    },
    {
      "cell_type": "markdown",
      "source": [
        "## Lakukan percobaan pada metric distance yang berbeda, 1000 vs 1jt data, 2D vs 5D data. catat hasilnya pada tabel yang anda buat sendiri seperti pada praktikum 1."
      ],
      "metadata": {
        "id": "ZGPNYK3znVLr"
      },
      "id": "ZGPNYK3znVLr"
    },
    {
      "cell_type": "code",
      "execution_count": 5,
      "id": "38feefff",
      "metadata": {
        "colab": {
          "base_uri": "https://localhost:8080/"
        },
        "id": "38feefff",
        "outputId": "6a88e05b-1d61-4d66-9db6-e9c1d9a621d1"
      },
      "outputs": [
        {
          "output_type": "stream",
          "name": "stdout",
          "text": [
            "Running experiment: 1000 data, 2D, Metric: l2...\n",
            "Running experiment: 1000 data, 5D, Metric: l2...\n",
            "Running experiment: 1000000 data, 2D, Metric: l2...\n",
            "Running experiment: 1000000 data, 5D, Metric: l2...\n",
            "Running experiment: 1000 data, 2D, Metric: ip...\n",
            "Running experiment: 1000 data, 5D, Metric: ip...\n",
            "Running experiment: 1000000 data, 2D, Metric: ip...\n",
            "Running experiment: 1000000 data, 5D, Metric: ip...\n",
            "\n",
            "--- Hasil Eksperimen ---\n",
            " Ukuran Data  Dimensi Metrik Jarak  M (HNSW)  ef_construction  ef (search)  Waktu Build (HNSW) (s)  Waktu Search (Exact) (s)  Waktu Search (HNSW) (s)  Recall@5  Speedup (Exact/HNSW)\n",
            "        1000        2           IP        16              200           50                0.055053                  0.001293                 0.000038       1.0                 33.68\n",
            "        1000        2           L2        16              200           50                0.128308                  0.000655                 0.000039       1.0                 16.85\n",
            "        1000        5           IP        16              200           50                0.054519                  0.001202                 0.000050       1.0                 24.13\n",
            "        1000        5           L2        16              200           50                0.095095                  0.000624                 0.000030       1.0                 20.60\n",
            "     1000000        2           IP        16              200           50              145.107047                  0.048491                 0.000117       0.0                415.92\n",
            "     1000000        2           L2        16              200           50              113.530901                  0.050976                 0.000044       1.0               1149.50\n",
            "     1000000        5           IP        16              200           50              170.750130                  0.104623                 0.000058       1.0               1800.91\n",
            "     1000000        5           L2        16              200           50              182.789944                  0.033756                 0.000138       1.0                245.23\n",
            "\n",
            "--- Markdown Table (buat laporan) ---\n",
            "|   Ukuran Data |   Dimensi | Metrik Jarak   |   M (HNSW) |   ef_construction |   ef (search) |   Waktu Build (HNSW) (s) |   Waktu Search (Exact) (s) |   Waktu Search (HNSW) (s) |   Recall@5 |   Speedup (Exact/HNSW) |\n",
            "|--------------:|----------:|:---------------|-----------:|------------------:|--------------:|-------------------------:|---------------------------:|--------------------------:|-----------:|-----------------------:|\n",
            "|          1000 |         2 | IP             |         16 |               200 |            50 |                 0.055053 |                   0.001293 |                  3.8e-05  |          1 |                  33.68 |\n",
            "|          1000 |         2 | L2             |         16 |               200 |            50 |                 0.128308 |                   0.000655 |                  3.9e-05  |          1 |                  16.85 |\n",
            "|          1000 |         5 | IP             |         16 |               200 |            50 |                 0.054519 |                   0.001202 |                  5e-05    |          1 |                  24.13 |\n",
            "|          1000 |         5 | L2             |         16 |               200 |            50 |                 0.095095 |                   0.000624 |                  3e-05    |          1 |                  20.6  |\n",
            "|       1000000 |         2 | IP             |         16 |               200 |            50 |               145.107    |                   0.048491 |                  0.000117 |          0 |                 415.92 |\n",
            "|       1000000 |         2 | L2             |         16 |               200 |            50 |               113.531    |                   0.050976 |                  4.4e-05  |          1 |                1149.5  |\n",
            "|       1000000 |         5 | IP             |         16 |               200 |            50 |               170.75     |                   0.104623 |                  5.8e-05  |          1 |                1800.91 |\n",
            "|       1000000 |         5 | L2             |         16 |               200 |            50 |               182.79     |                   0.033756 |                  0.000138 |          1 |                 245.23 |\n"
          ]
        }
      ],
      "source": [
        "import hnswlib\n",
        "import numpy as np\n",
        "import time\n",
        "import pandas as pd\n",
        "from sklearn.neighbors import NearestNeighbors\n",
        "\n",
        "def avg_search_time(callable_fn, repeats=3):\n",
        "    times = []\n",
        "    for _ in range(repeats):\n",
        "        t0 = time.time()\n",
        "        callable_fn()\n",
        "        times.append(time.time() - t0)\n",
        "    return float(np.mean(times))\n",
        "\n",
        "def run_experiment(n_data, dim, metric_type, repeats=3,\n",
        "                   M=16, ef_construction=200, ef=50):\n",
        "    \"\"\"\n",
        "    HNSW (approx) vs Brute-force (exact) untuk:\n",
        "    - n_data: 1_000 dan 1_000_000\n",
        "    - dim: 2 dan 5\n",
        "    - metric_type: 'l2' atau 'ip' (IP + normalisasi ≈ Cosine)\n",
        "    \"\"\"\n",
        "    print(f\"Running experiment: {n_data} data, {dim}D, Metric: {metric_type}...\")\n",
        "\n",
        "    np.random.seed(42)\n",
        "    data = np.random.random((n_data, dim)).astype(np.float32)\n",
        "    query = np.random.random((1, dim)).astype(np.float32)\n",
        "    k = 5\n",
        "\n",
        "    # Normalisasi jika IP (agar setara Cosine)\n",
        "    if metric_type == 'ip':\n",
        "        eps = 1e-12\n",
        "        data_norm = np.linalg.norm(data, axis=1, keepdims=True) + eps\n",
        "        data = data / data_norm\n",
        "        query = query / (np.linalg.norm(query, axis=1, keepdims=True) + eps)\n",
        "        sklearn_metric = 'cosine'\n",
        "    else:\n",
        "        sklearn_metric = 'euclidean'\n",
        "\n",
        "    # ---- Exact (Sklearn brute) ----\n",
        "    nn = NearestNeighbors(n_neighbors=k, algorithm='brute', metric=sklearn_metric)\n",
        "    nn.fit(data)\n",
        "\n",
        "    # 1x untuk indeks ground-truth\n",
        "    t0 = time.time()\n",
        "    _, indices_exact = nn.kneighbors(query)\n",
        "    time_exact_once = time.time() - t0\n",
        "\n",
        "    # rata-rata waktu search exact\n",
        "    time_exact = avg_search_time(lambda: nn.kneighbors(query), repeats=repeats)\n",
        "\n",
        "    # ---- HNSW (Approx) ----\n",
        "    p = hnswlib.Index(space=metric_type, dim=dim)\n",
        "    t_build0 = time.time()\n",
        "    p.init_index(max_elements=n_data, ef_construction=ef_construction, M=M)\n",
        "    p.add_items(data)\n",
        "    time_build = time.time() - t_build0\n",
        "\n",
        "    p.set_ef(ef)\n",
        "\n",
        "    # rata-rata waktu search HNSW\n",
        "    def _hnsw_query():\n",
        "        p.knn_query(query, k=k)\n",
        "    time_hnsw = avg_search_time(_hnsw_query, repeats=repeats)\n",
        "\n",
        "    # ambil 1 hasil untuk hitung recall\n",
        "    indices_hnsw, _ = p.knn_query(query, k=k)\n",
        "\n",
        "    true_neighbors = set(indices_exact[0])\n",
        "    approx_neighbors = set(indices_hnsw[0])\n",
        "    recall = len(true_neighbors.intersection(approx_neighbors)) / k\n",
        "\n",
        "    speedup = (time_exact / time_hnsw) if time_hnsw > 0 else None\n",
        "\n",
        "    return {\n",
        "        \"Ukuran Data\": n_data,\n",
        "        \"Dimensi\": dim,\n",
        "        \"Metrik Jarak\": metric_type.upper(),\n",
        "        \"M (HNSW)\": M,\n",
        "        \"ef_construction\": ef_construction,\n",
        "        \"ef (search)\": ef,\n",
        "        \"Waktu Build (HNSW) (s)\": round(time_build, 6),\n",
        "        \"Waktu Search (Exact) (s)\": round(time_exact, 6),\n",
        "        \"Waktu Search (HNSW) (s)\": round(time_hnsw, 6),\n",
        "        f\"Recall@{k}\": round(recall, 4),\n",
        "        \"Speedup (Exact/HNSW)\": round(speedup, 2) if speedup is not None else None\n",
        "    }\n",
        "\n",
        "# --- Eksekusi Semua Skenario ---\n",
        "scenarios = [\n",
        "    (1000, 2, 'l2'),\n",
        "    (1000, 5, 'l2'),\n",
        "    (1000000, 2, 'l2'),\n",
        "    (1000000, 5, 'l2'),\n",
        "    (1000, 2, 'ip'),\n",
        "    (1000, 5, 'ip'),\n",
        "    (1000000, 2, 'ip'),\n",
        "    (1000000, 5, 'ip'),\n",
        "]\n",
        "\n",
        "results = []\n",
        "for n_data, dim, metric in scenarios:\n",
        "    try:\n",
        "        results.append(run_experiment(n_data, dim, metric, repeats=3,\n",
        "                                      M=16, ef_construction=200, ef=50))\n",
        "    except MemoryError:\n",
        "        # Jika RAM tidak cukup untuk 1 juta, tetap catat barisnya\n",
        "        results.append({\n",
        "            \"Ukuran Data\": n_data, \"Dimensi\": dim, \"Metrik Jarak\": metric.upper(),\n",
        "            \"M (HNSW)\": 16, \"ef_construction\": 200, \"ef (search)\": 50,\n",
        "            \"Waktu Build (HNSW) (s)\": None,\n",
        "            \"Waktu Search (Exact) (s)\": None,\n",
        "            \"Waktu Search (HNSW) (s)\": None,\n",
        "            \"Recall@5\": None,\n",
        "            \"Speedup (Exact/HNSW)\": None\n",
        "        })\n",
        "\n",
        "df_results = pd.DataFrame(results)\n",
        "\n",
        "df_results = df_results.sort_values(by=[\"Ukuran Data\",\"Dimensi\",\"Metrik Jarak\"]).reset_index(drop=True)\n",
        "\n",
        "print(\"\\n--- Hasil Eksperimen ---\")\n",
        "print(df_results.to_string(index=False))\n",
        "\n",
        "# Konversi ke Markdown\n",
        "md_table = df_results.to_markdown(index=False)\n",
        "print(\"\\n--- Markdown Table (buat laporan) ---\")\n",
        "print(md_table)"
      ]
    },
    {
      "cell_type": "markdown",
      "id": "57520b49",
      "metadata": {
        "id": "57520b49"
      },
      "source": [
        "| Ukuran Data | Dimensi | Metrik Jarak | Waktu Build (HNSW) (s) | Waktu Search (Exact) (s) | Waktu Search (HNSW) (s) | Recall@5 |\n",
        "| :---------: | :-----: | :----------: | :--------------------: | :----------------------: | :---------------------: | :------: |\n",
        "|    1000     |    2    |      L2      |        0.009001        |         0.002996         |        0.000000         |   1.0    |\n",
        "|    1000     |    5    |      L2      |        0.007998        |         0.004562         |        0.000000         |   1.0    |\n",
        "|   1000000   |    2    |      L2      |       12.098200        |         0.006001         |        0.000000         |   1.0    |\n",
        "|   1000000   |    5    |      L2      |       18.497900        |         0.009999         |        0.000000         |   1.0    |\n",
        "|    1000     |    2    |      IP      |        0.007508        |         0.000516         |        0.000000         |   1.0    |\n",
        "|    1000     |    5    |      IP      |        0.008002        |         0.000999         |        0.000000         |   1.0    |\n",
        "|   1000000   |    2    |      IP      |       18.336600        |         0.027482         |        0.000000         |   0.0    |\n",
        "|   1000000   |    5    |      IP      |       16.405500        |         0.036579         |        0.000000         |   1.0    |\n"
      ]
    }
  ],
  "metadata": {
    "kernelspec": {
      "display_name": ".venv",
      "language": "python",
      "name": "python3"
    },
    "language_info": {
      "codemirror_mode": {
        "name": "ipython",
        "version": 3
      },
      "file_extension": ".py",
      "mimetype": "text/x-python",
      "name": "python",
      "nbconvert_exporter": "python",
      "pygments_lexer": "ipython3",
      "version": "3.12.8"
    },
    "colab": {
      "provenance": [],
      "include_colab_link": true
    }
  },
  "nbformat": 4,
  "nbformat_minor": 5
}